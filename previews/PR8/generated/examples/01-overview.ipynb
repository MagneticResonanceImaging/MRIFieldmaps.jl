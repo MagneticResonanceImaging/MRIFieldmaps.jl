{
 "cells": [
  {
   "cell_type": "markdown",
   "source": [
    "# MRIfieldmaps overview"
   ],
   "metadata": {}
  },
  {
   "cell_type": "markdown",
   "source": [
    "This page summarizes the Julia package\n",
    "[`MRIfieldmaps`](https://github.com/MagneticResonanceImaging/MRIfieldmaps.jl).\n",
    "\n",
    "This page was generated from a single Julia file:\n",
    "[01-overview.jl](https://github.com/MagneticResonanceImaging/MRIfieldmaps.jl/blob/main/docs/lit/examples/01-overview.jl)."
   ],
   "metadata": {}
  },
  {
   "cell_type": "markdown",
   "source": [
    "### Setup\n",
    "\n",
    "Packages needed here.\n",
    "Use `Pkg.add` as illustrated\n",
    "[here](https://juliaimagerecon.github.io/Examples/generated/mri/1-nufft)\n",
    "when using a package for the first time."
   ],
   "metadata": {}
  },
  {
   "outputs": [],
   "cell_type": "code",
   "source": [
    "using MRIfieldmaps: spdiff\n",
    "using MIRTjim: jim, prompt; jim(:prompt, true)\n",
    "using InteractiveUtils: versioninfo"
   ],
   "metadata": {},
   "execution_count": null
  },
  {
   "cell_type": "markdown",
   "source": [
    "The following line is helpful when running this file as a script;\n",
    "this way it will prompt user to hit a key after each figure is displayed."
   ],
   "metadata": {}
  },
  {
   "outputs": [],
   "cell_type": "code",
   "source": [
    "isinteractive() ? jim(:prompt, true) : prompt(:draw);"
   ],
   "metadata": {},
   "execution_count": null
  },
  {
   "cell_type": "markdown",
   "source": [
    "### Overview\n",
    "\n",
    "This package provides algorithms\n",
    "for estimating fieldmaps in MRI.\n",
    "Currently it supports B0 map estimation.\n",
    "A future extension could support B1+ map estimation.\n",
    "\n",
    "This page just discusses the regularization;\n",
    "other examples illustrate specific fieldmap estimators."
   ],
   "metadata": {}
  },
  {
   "cell_type": "markdown",
   "source": [
    "## Regularization\n",
    "\n",
    "Some methods in this package use sparse matrices\n",
    "to perform finite-difference operations.\n",
    "Those operations could be performed\n",
    "with a `LinearMap` based on `diff`,\n",
    "but the fastest algorithms here\n",
    "use preconditioning based on\n",
    "[incomplete Cholesky factorization](https://en.wikipedia.org/wiki/Incomplete_Cholesky_factorization)\n",
    "of a Hessian matrix,\n",
    "and such factorization\n",
    "is supported for sparse matrices,\n",
    "but probably not for general linear maps.\n",
    "\n",
    "It may be helpful\n",
    "to visualize\n",
    "these sparse matrices.\n",
    "\n",
    "Here are 1D 1st-order and 2nd-order finite differences."
   ],
   "metadata": {}
  },
  {
   "outputs": [],
   "cell_type": "code",
   "source": [
    "D1 = spdiff((8,); order=1)[1]\n",
    "D2 = spdiff((8,); order=2)[1]\n",
    "clim = (-1, 2)\n",
    "color = :cividis\n",
    "jim(\n",
    " jim(Matrix(D1)', \"1st-order\"; color, clim, prompt=false),\n",
    " jim(Matrix(D2)', \"2nd-order\"; color, clim, prompt=false),\n",
    ")"
   ],
   "metadata": {},
   "execution_count": null
  },
  {
   "cell_type": "markdown",
   "source": [
    "There are other boundary conditions available:"
   ],
   "metadata": {}
  },
  {
   "outputs": [],
   "cell_type": "code",
   "source": [
    "D1z = spdiff((8,); order=1, ending=:zero)[1]\n",
    "D2z = spdiff((8,); order=2, ending=:zero)[1]\n",
    "D2f = spdiff((8,); order=2, ending=:first)[1]\n",
    "jim(\n",
    " jim(Matrix(D1z)', \"1st-order, zero ends\"; color, clim, prompt=false),\n",
    " jim(Matrix(D2z)', \"2nd-order, zero ends\"; color, clim, prompt=false),\n",
    " jim(Matrix(D2f)', \"2nd-order, 1st ends\"; color, clim, prompt=false),\n",
    " ; layout = (3,1),\n",
    ")"
   ],
   "metadata": {},
   "execution_count": null
  },
  {
   "cell_type": "markdown",
   "source": [
    "For multi-dimensional arrays,\n",
    "regularizers need finite-differences along each dimension,\n",
    "and these are constructed with Kronecker products\n",
    "and are applied to the `vec` of an array."
   ],
   "metadata": {}
  },
  {
   "outputs": [],
   "cell_type": "code",
   "source": [
    "dims = (9,8)\n",
    "d1 = spdiff(dims; order=1)\n",
    "d2 = spdiff(dims; order=2)\n",
    "jim(\n",
    " jim(Matrix(d1[1])', \"1st-order, 1st dim\"; color, clim, prompt=false),\n",
    " jim(Matrix(d1[2])', \"1st-order, 2nd dim\"; color, clim, prompt=false),\n",
    " jim(Matrix(d2[1])', \"2nd-order, 1st dim\"; color, clim, prompt=false),\n",
    " jim(Matrix(d2[2])', \"2nd-order, 2nd dim\"; color, clim, prompt=false),\n",
    ")"
   ],
   "metadata": {},
   "execution_count": null
  },
  {
   "cell_type": "markdown",
   "source": [
    "Here is an illustration of applying these finite-difference matrices\n",
    "to a simple test phantom.\n",
    "Note the use of `vec` and `reshape` for display."
   ],
   "metadata": {}
  },
  {
   "outputs": [],
   "cell_type": "code",
   "source": [
    "dims = (40,30)\n",
    "x = LinRange(-1, 1, dims[1])\n",
    "y = LinRange(-1, 1, dims[2])\n",
    "phantom = @. abs(x) + abs(y') < 0.5\n",
    "sp = spdiff(dims; order=1)\n",
    "d1 = reshape(sp[1] * vec(phantom), dims)\n",
    "d2 = reshape(sp[2] * vec(phantom), dims)\n",
    "jim(\n",
    " jim(x, y, phantom, \"Test image\"),\n",
    " jim(x, y, d1, \"1st dim differences\"),\n",
    " jim(x, y, d2, \"2nd dim differences\"),\n",
    ")"
   ],
   "metadata": {},
   "execution_count": null
  },
  {
   "cell_type": "markdown",
   "source": [
    "## Support mask\n",
    "\n",
    "Often we want to estimate a fieldmap\n",
    "over some spatial support \"mask\"\n",
    "that is smaller than the entire image,\n",
    "e.g.,\n",
    "only in voxels where the signal is sufficiently large.\n",
    "See the\n",
    "[ImageGeoms.jl](https://juliaimagerecon.github.io/ImageGeoms.jl/stable/generated/examples/2-mask)\n",
    "documentation\n",
    "about the related `embed` and `maskit` operations."
   ],
   "metadata": {}
  },
  {
   "cell_type": "markdown",
   "source": [
    "## Reproducibility\n",
    "This page was generated with the following version of Julia:"
   ],
   "metadata": {}
  },
  {
   "outputs": [],
   "cell_type": "code",
   "source": [
    "io = IOBuffer(); versioninfo(io); split(String(take!(io)), '\\n')"
   ],
   "metadata": {},
   "execution_count": null
  },
  {
   "cell_type": "markdown",
   "source": [
    "And with the following package versions"
   ],
   "metadata": {}
  },
  {
   "outputs": [],
   "cell_type": "code",
   "source": [
    "import Pkg; Pkg.status()"
   ],
   "metadata": {},
   "execution_count": null
  },
  {
   "cell_type": "markdown",
   "source": [
    "---\n",
    "\n",
    "*This notebook was generated using [Literate.jl](https://github.com/fredrikekre/Literate.jl).*"
   ],
   "metadata": {}
  }
 ],
 "nbformat_minor": 3,
 "metadata": {
  "language_info": {
   "file_extension": ".jl",
   "mimetype": "application/julia",
   "name": "julia",
   "version": "1.8.3"
  },
  "kernelspec": {
   "name": "julia-1.8",
   "display_name": "Julia 1.8.3",
   "language": "julia"
  }
 },
 "nbformat": 4
}
