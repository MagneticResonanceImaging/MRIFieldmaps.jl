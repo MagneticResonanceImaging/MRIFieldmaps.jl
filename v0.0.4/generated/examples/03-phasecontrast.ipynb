{
 "cells": [
  {
   "cell_type": "markdown",
   "source": [
    "# Phase contrast B0 mapping\n",
    "\n",
    "This page illustrates regularized B0 3D field map estimation\n",
    "from multi-echo, multi-coil MRI images\n",
    "using the Julia package\n",
    "[`MRIFieldmaps`](https://github.com/MagneticResonanceImaging/MRIFieldmaps.jl).\n",
    "In this case,\n",
    "we assume we do not have access to coil sensitivity maps.\n",
    "Instead of using those maps for coil combination,\n",
    "we will use a phase contrast-based approach."
   ],
   "metadata": {}
  },
  {
   "cell_type": "markdown",
   "source": [
    "### Setup"
   ],
   "metadata": {}
  },
  {
   "cell_type": "markdown",
   "source": [
    "Packages needed here."
   ],
   "metadata": {}
  },
  {
   "outputs": [],
   "cell_type": "code",
   "source": [
    "using MRIFieldmaps: b0map, phasecontrast\n",
    "using MIRTjim: jim, prompt; jim(:prompt, true)\n",
    "using Random: seed!\n",
    "using Unitful: s, ms, Hz"
   ],
   "metadata": {},
   "execution_count": null
  },
  {
   "cell_type": "markdown",
   "source": [
    "The following line is helpful when running this file as a script;\n",
    "this way it will prompt user to hit a key after each figure is displayed."
   ],
   "metadata": {}
  },
  {
   "outputs": [],
   "cell_type": "code",
   "source": [
    "isinteractive() ? jim(:prompt, true) : prompt(:draw);"
   ],
   "metadata": {},
   "execution_count": null
  },
  {
   "cell_type": "markdown",
   "source": [
    "## Overview\n",
    "\n",
    "When estimating B0 field maps\n",
    "from multi-coil data,\n",
    "the images first can be coil-combined\n",
    "in a way that preserves image phase.\n",
    "Ideally,\n",
    "one has access to coil sensitivity maps\n",
    "that can be used\n",
    "for the coil combination.\n",
    "However,\n",
    "coil sensitivity maps\n",
    "are not always available\n",
    "(e.g., for B0 shimming).\n",
    "One way of coil combining the images\n",
    "without coil sensitivity maps\n",
    "is to pretend all the coils\n",
    "are uniformly sensitive\n",
    "across the object\n",
    "(i.e., assume the sensitivity maps\n",
    "are uniformly equal to 1).\n",
    "Alternatively,\n",
    "one can effectively use the multi-coil images themselves\n",
    "to glean information\n",
    "about the coil sensitivies\n",
    "and coil combine the images\n",
    "using a phase contrast-based approach.\n",
    "\n",
    "We now review the B0 mapping procedure\n",
    "so that we can then understand\n",
    "how the choice of coil combination scheme\n",
    "influences the estimated field map.\n",
    "For the case we are considering,\n",
    "where coil combination is done\n",
    "as a preprocessing step,\n",
    "the regularized, iterative B0 mapping procedure\n",
    "seeks to minimize\n",
    "$$\n",
    "\\Psi(\\mathbf{\\omega}) = \\Phi(\\mathbf{\\omega}) + \\frac{\\beta}{2} \\|\\mathbf{C} \\mathbf{\\omega}\\|_2^2,\n",
    "$$\n",
    "where $\\mathbf{\\omega}$ is the field map,\n",
    "$\\Phi(\\mathbf{\\omega})$ computes the data fit term,\n",
    "$\\mathbf{C}$ is a finite difference operator\n",
    "to encourage spatial smoothness\n",
    "of the field map,\n",
    "and $\\beta$ is a regularization parameter.\n",
    "The data fit term is given by\n",
    "$$\n",
    "\\Phi(\\mathbf{\\omega}) = \\sum_{j = 1}^{N_{\\mathrm{v}}} \\sum_{m, n = 1}^{N_{\\mathrm{e}}} \\phi_{mnj}(\\omega_j),\n",
    "$$\n",
    "where $N_{\\mathrm{v}}$ is the number of image voxels,\n",
    "$N_{\\mathrm{e}}$ is the number of echoes,\n",
    "and\n",
    "$$\n",
    "\\phi_{mnj}(\\omega_j) = |r_{mnj}| [1 - \\cos(\\angle r_{mnj} + \\omega_j (t_m - t_n))].\n",
    "$$\n",
    "Here,\n",
    "$t_m - t_n$ represents the echo time difference\n",
    "between the $m$th and $n$th echoes,\n",
    "and\n",
    "$$\n",
    "r_{mnj} = \\frac{1}{N_{\\mathrm{e}}} z_{mj}^{*} z_{nj},\n",
    "$$\n",
    "where $z_{nj}$ is the (coil-combined) image value\n",
    "for echo $n$ at voxel $j$,\n",
    "and $(\\cdot)^{*}$ denotes complex conjugate.\n",
    "\n",
    "We now consider what $z_{nj}$ looks like\n",
    "for the coil combination schemes discussed.\n",
    "\n",
    "1. *Coil combination using coil sensitivities:*\n",
    "   In this case,\n",
    "   we first compute\n",
    "   the sum-of-squares of the sensitivity maps:\n",
    "   $$\n",
    "   v_j = \\sum_{c = 1}^{N_{\\mathrm{c}}} |s_{cj}|^2,\n",
    "   $$\n",
    "   where $s_{cj}$ is the coil sensitivity\n",
    "   of coil $c$ at voxel $j$,\n",
    "   and $N_{\\mathrm{c}}$ is the number of coils.\n",
    "   We then use the sensitivity maps\n",
    "   for the coil combination:\n",
    "   $$\n",
    "   z_{nj} = \\frac{1}{\\sqrt{v_j}} \\sum_{c = 1}^{N_{\\mathrm{c}}} s_{cj}^{*} y_{cnj},\n",
    "   $$\n",
    "   where $y_{cnj}$ is the image data\n",
    "   for coil $c$ of echo $n$ at voxel $j$.\n",
    "1. *Taking coil sensitivities to be uniformly equal to 1:*\n",
    "   In this case,\n",
    "   $s_{cj} = 1 \\, \\forall c, j$,\n",
    "   so $v_j = N_{\\mathrm{c}}$\n",
    "   and\n",
    "   $$\n",
    "   z_{nj} = \\frac{1}{\\sqrt{N_{\\mathrm{c}}}} \\sum_{c = 1}^{N_{\\mathrm{c}}} y_{cnj}.\n",
    "   $$\n",
    "1. *Phase contrast-based approach:*\n",
    "   In this case,\n",
    "   we first coil combine the first echo image\n",
    "   by taking the sum-of-squares\n",
    "   across coils:\n",
    "   $$\n",
    "   v_j = \\sum_{c = 1}^{N_{\\mathrm{c}}} |y_{c1j}|^2,\n",
    "   $$\n",
    "   where $y_{c1j}$ is the image data\n",
    "   for coil $c$ of the first echo at voxel $j$.\n",
    "   Then, for each echo,\n",
    "   we coil combine in the following way:\n",
    "   $$\n",
    "   z_{nj} = \\frac{1}{\\sqrt{v_j}} \\sum_{c = 1}^{N_{\\mathrm{c}}} y_{c1j}^{*} y_{cnj}.\n",
    "   $$\n",
    "\n",
    "The example that follows shows a simulated experiment\n",
    "where a B0 field map is estimated\n",
    "without knowledge\n",
    "of the coil sensitivies.\n",
    "This example examines B0 maps estimated\n",
    "when using both coil combination approaches\n",
    "and compares them to the case\n",
    "where coil sensitivity information is known.\n",
    "This example also compares\n",
    "the above regularized, iteratively estimated B0 maps\n",
    "to one obtained\n",
    "using a (non-iterative) phase contrast B0 mapping approach."
   ],
   "metadata": {}
  },
  {
   "cell_type": "markdown",
   "source": [
    "## Get simulated data"
   ],
   "metadata": {}
  },
  {
   "cell_type": "markdown",
   "source": [
    "### Sensitivity maps"
   ],
   "metadata": {}
  },
  {
   "cell_type": "markdown",
   "source": [
    "Create a function for generating Gaussian-shaped, pure-real sensitivity maps."
   ],
   "metadata": {}
  },
  {
   "outputs": [],
   "cell_type": "code",
   "source": [
    "function sensitivity_map(nx, ny, cx, cy, σ)\n",
    "\n",
    "    s = [exp(-((x - cx)^2 + (y - cy)^2) / σ^2) for x in 1:nx, y in 1:ny]\n",
    "    return complex.(s ./ maximum(s))\n",
    "\n",
    "end;"
   ],
   "metadata": {},
   "execution_count": null
  },
  {
   "cell_type": "markdown",
   "source": [
    "Specify the parameters for the sensitivity maps\n",
    "and then generate the maps."
   ],
   "metadata": {}
  },
  {
   "outputs": [],
   "cell_type": "code",
   "source": [
    "nx = ny = 64\n",
    "σ = 60\n",
    "centers = [\n",
    "    (nx ÷ 2, -100),\n",
    "    (nx ÷ 2, 100 + ny + 1),\n",
    "    (-100, ny ÷ 2),\n",
    "    (100 + nx + 1, ny ÷ 2),\n",
    "]\n",
    "smap = cat([sensitivity_map(nx, ny, cx, cy, σ) for (cx, cy) in centers]...; dims = 3)\n",
    "jim(smap; title = \"Sensitivity maps\")"
   ],
   "metadata": {},
   "execution_count": null
  },
  {
   "cell_type": "markdown",
   "source": [
    "### Object"
   ],
   "metadata": {}
  },
  {
   "cell_type": "markdown",
   "source": [
    "Create a disk-shaped object\n",
    "with uniform intensity (M0) throughout."
   ],
   "metadata": {}
  },
  {
   "outputs": [],
   "cell_type": "code",
   "source": [
    "radius = 25\n",
    "obj = [(x - nx÷2)^2 + (y - ny÷2)^2 < radius^2 for x in 1:nx, y in 1:ny]\n",
    "mask = obj .> 0 # Mask indicating object support\n",
    "jim(obj; title = \"Object\")"
   ],
   "metadata": {},
   "execution_count": null
  },
  {
   "cell_type": "markdown",
   "source": [
    "### True field map"
   ],
   "metadata": {}
  },
  {
   "cell_type": "markdown",
   "source": [
    "Create a linearly (spatially) varying field map."
   ],
   "metadata": {}
  },
  {
   "outputs": [],
   "cell_type": "code",
   "source": [
    "ftrue = repeat(range(-50, 50, nx), 1, ny) * Hz\n",
    "ftrue[nx÷2,ny÷2] = 50Hz # Add Kronecker impulse for visualizing regularization-induced blur\n",
    "ftrue .*= mask # Mask out background voxels for better visualization\n",
    "clim = (-60, 60) .* Hz # Use common colorbar limits for all field map plots\n",
    "jim(ftrue; title = \"True field map\", clim)"
   ],
   "metadata": {},
   "execution_count": null
  },
  {
   "cell_type": "markdown",
   "source": [
    "### Data"
   ],
   "metadata": {}
  },
  {
   "cell_type": "markdown",
   "source": [
    "Specify parameters for the simulated multi-echo, multi-coil data."
   ],
   "metadata": {}
  },
  {
   "outputs": [],
   "cell_type": "code",
   "source": [
    "TE = (4.0ms, 6.3ms)\n",
    "T2 = 40ms\n",
    "σ_noise = 0.005; # Noise standard deviation"
   ],
   "metadata": {},
   "execution_count": null
  },
  {
   "cell_type": "markdown",
   "source": [
    "Make a function for creating the simulated data\n",
    "for a given echo time."
   ],
   "metadata": {}
  },
  {
   "outputs": [],
   "cell_type": "code",
   "source": [
    "function make_data(TE)\n",
    "\n",
    "    data = @. smap * obj * exp(-TE / T2) * cispi(2TE * ftrue) # Noiseless\n",
    "    @. data += complex(σ_noise * randn(), σ_noise * randn()) # Add complex Gaussian noise\n",
    "    return data\n",
    "\n",
    "end;"
   ],
   "metadata": {},
   "execution_count": null
  },
  {
   "cell_type": "markdown",
   "source": [
    "Create the simulated data."
   ],
   "metadata": {}
  },
  {
   "outputs": [],
   "cell_type": "code",
   "source": [
    "seed!(0)\n",
    "ydata = cat(make_data.(TE)...; dims = 4)\n",
    "jim(ydata; title = \"Simulated data\", ncol = 4)"
   ],
   "metadata": {},
   "execution_count": null
  },
  {
   "cell_type": "markdown",
   "source": [
    "## Estimate B0\n",
    "\n",
    "Now that we have the simulated data,\n",
    "we can estimate B0 from the data\n",
    "using the different approaches.\n",
    "\n",
    "First, create a function for computing the RMSE of the estimated B0 maps\n",
    "and another function for displaying the B0 maps."
   ],
   "metadata": {}
  },
  {
   "outputs": [],
   "cell_type": "code",
   "source": [
    "frmsd = (f1, f2) -> 1Hz * round(sqrt(sum(abs2, (f1 - f2)[mask]) / count(mask))/1Hz; digits = 1)\n",
    "frmse = f -> frmsd(f, ftrue)\n",
    "plotb0 = f -> jim(f; title = \"RMSE = $(frmse(f))\", clim);"
   ],
   "metadata": {},
   "execution_count": null
  },
  {
   "cell_type": "markdown",
   "source": [
    "Also specify the strength of the regularization parameter,\n",
    "as well as the type of preconditioner to use.\n",
    "(Note that the default preconditioner used by `b0map` (`precon = :ichol`)\n",
    "does not produce good results in this example.)"
   ],
   "metadata": {}
  },
  {
   "outputs": [],
   "cell_type": "code",
   "source": [
    "l2b = -26 # Regularization parameter is β = 2^l2b\n",
    "precon = :diag;"
   ],
   "metadata": {},
   "execution_count": null
  },
  {
   "cell_type": "markdown",
   "source": [
    "### Use coil sensitivity maps"
   ],
   "metadata": {}
  },
  {
   "outputs": [],
   "cell_type": "code",
   "source": [
    "fcoil = b0map(ydata, TE; smap, l2b, precon)[1] .* mask\n",
    "plotb0(fcoil)"
   ],
   "metadata": {},
   "execution_count": null
  },
  {
   "cell_type": "markdown",
   "source": [
    "### Assume uniform coil sensitivities"
   ],
   "metadata": {}
  },
  {
   "outputs": [],
   "cell_type": "code",
   "source": [
    "funiform = b0map(ydata, TE; smap = ones(eltype(smap), size(smap)), l2b, precon)[1] .* mask\n",
    "plotb0(funiform)"
   ],
   "metadata": {},
   "execution_count": null
  },
  {
   "cell_type": "markdown",
   "source": [
    "### Use phase contrast-based approach"
   ],
   "metadata": {}
  },
  {
   "outputs": [],
   "cell_type": "code",
   "source": [
    "fpc_iterative = b0map(ydata, TE; smap = nothing, l2b, precon)[1] .* mask\n",
    "plotb0(fpc_iterative)"
   ],
   "metadata": {},
   "execution_count": null
  },
  {
   "cell_type": "markdown",
   "source": [
    "### Do conventional (non-iterative) phase contrast B0 mapping"
   ],
   "metadata": {}
  },
  {
   "outputs": [],
   "cell_type": "code",
   "source": [
    "fpc = phasecontrast(ydata, TE) .* mask\n",
    "plotb0(fpc)"
   ],
   "metadata": {},
   "execution_count": null
  },
  {
   "cell_type": "markdown",
   "source": [
    "### Show all field maps together"
   ],
   "metadata": {}
  },
  {
   "outputs": [],
   "cell_type": "code",
   "source": [
    "annotate = (col, row, title; fontsize = 12) -> begin\n",
    "    x = nx ÷ 2 + nx * (col - 1)\n",
    "    y = 4 + ny * (row - 1)\n",
    "    return (x, y, (title, fontsize))\n",
    "end\n",
    "annotation = [\n",
    "    annotate(1, 1, \"ftrue\"),\n",
    "    annotate(2, 1, \"fcoil\"),\n",
    "    annotate(3, 1, \"funiform\"),\n",
    "    annotate(2, 2, \"fpc_iterative\"),\n",
    "    annotate(3, 2, \"fpc\"),\n",
    "]\n",
    "fzero = zeros(eltype(ftrue), size(ftrue))\n",
    "fmaps = [ftrue;;; fcoil;;; funiform;;; fzero;;; fpc_iterative;;; fpc]\n",
    "jim(fmaps; clim, annotation, ncol = 3)"
   ],
   "metadata": {},
   "execution_count": null
  },
  {
   "cell_type": "markdown",
   "source": [
    "Display the RMSE of each field map."
   ],
   "metadata": {}
  },
  {
   "outputs": [],
   "cell_type": "code",
   "source": [
    "[\n",
    "    \"Method\"       \"RMSE\";\n",
    "    :fcoil         frmse(fcoil);\n",
    "    :funiform      frmse(funiform);\n",
    "    :fpc_iterative frmse(fpc_iterative);\n",
    "    :fpc           frmse(fpc);\n",
    "]"
   ],
   "metadata": {},
   "execution_count": null
  },
  {
   "cell_type": "markdown",
   "source": [
    "Compute the root mean square difference\n",
    "between the iterative B0 mapping approach\n",
    "that used the phase contrast-based coil combination method\n",
    "and the conventional phase contrast B0 map."
   ],
   "metadata": {}
  },
  {
   "outputs": [],
   "cell_type": "code",
   "source": [
    "println(\"RMSD = \", frmsd(fpc_iterative, fpc))"
   ],
   "metadata": {},
   "execution_count": null
  },
  {
   "cell_type": "markdown",
   "source": [
    "## Summary\n",
    "\n",
    "In this example,\n",
    "the iterative B0-mapping method\n",
    "that used the phase contrast-based coil combination method\n",
    "performed just as well\n",
    "(in terms of RMSE)\n",
    "as the approach\n",
    "that used coil-sensitivity information\n",
    "for coil combination.\n",
    "The iterative approach\n",
    "that did coil combination\n",
    "assuming uniform coil sensitivities\n",
    "did slightly worse,\n",
    "and the non-iterative phase contrast approach\n",
    "had the worst RMSE.\n",
    "However,\n",
    "in this example,\n",
    "all the approaches performed fairly well;\n",
    "perhaps a different data set\n",
    "would result in more dramatic differences."
   ],
   "metadata": {}
  },
  {
   "cell_type": "markdown",
   "source": [
    "---\n",
    "\n",
    "*This notebook was generated using [Literate.jl](https://github.com/fredrikekre/Literate.jl).*"
   ],
   "metadata": {}
  }
 ],
 "nbformat_minor": 3,
 "metadata": {
  "language_info": {
   "file_extension": ".jl",
   "mimetype": "application/julia",
   "name": "julia",
   "version": "1.10.3"
  },
  "kernelspec": {
   "name": "julia-1.10",
   "display_name": "Julia 1.10.3",
   "language": "julia"
  }
 },
 "nbformat": 4
}
