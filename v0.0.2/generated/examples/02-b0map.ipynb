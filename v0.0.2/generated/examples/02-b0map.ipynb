{
 "cells": [
  {
   "cell_type": "markdown",
   "source": [
    "# B0 field map\n",
    "\n",
    "This page illustrates regularized B0 3D field map estimation\n",
    "from multi-echo multi-coil MRI images\n",
    "using the Julia package\n",
    "[`MRIFieldmaps`](https://github.com/MagneticResonanceImaging/MRIFieldmaps.jl)."
   ],
   "metadata": {}
  },
  {
   "cell_type": "markdown",
   "source": [
    "### Setup"
   ],
   "metadata": {}
  },
  {
   "cell_type": "markdown",
   "source": [
    "Packages needed here."
   ],
   "metadata": {}
  },
  {
   "outputs": [],
   "cell_type": "code",
   "source": [
    "using MRIFieldmaps: b0map, b0model, b0init, b0scale\n",
    "using MIRTjim: jim, prompt; jim(:prompt, true)\n",
    "using MAT: matread\n",
    "import Downloads # todo: use Fetch or DataDeps?\n",
    "using MIRT: ir_mri_sensemap_sim\n",
    "using Random: seed!\n",
    "using StatsBase: mean\n",
    "using Unitful: s\n",
    "using Plots; default(markerstrokecolor=:auto, label=\"\")"
   ],
   "metadata": {},
   "execution_count": null
  },
  {
   "cell_type": "markdown",
   "source": [
    "The following line is helpful when running this file as a script;\n",
    "this way it will prompt user to hit a key after each figure is displayed."
   ],
   "metadata": {}
  },
  {
   "outputs": [],
   "cell_type": "code",
   "source": [
    "isinteractive() ? jim(:prompt, true) : prompt(:draw);"
   ],
   "metadata": {},
   "execution_count": null
  },
  {
   "cell_type": "markdown",
   "source": [
    "## Overview\n",
    "\n",
    "This example is based on the simulation example from\n",
    "[the repo](https://github.com/ClaireYLin/regularized-field-map-estimation)\n",
    "that reproduces Experiment A and Figs. 3 & 4\n",
    "in\n",
    "[the paper](https://doi.org/10.1109/TCI.2020.3031082)\n",
    "\"Efficient Regularized Field Map Estimation in 3D MRI\"\n",
    "by Claire Lin and Jeff Fessler, 2020\n",
    "\n",
    "This example uses units (seconds)\n",
    "to illustrate that capability of the package,\n",
    "but units are not required."
   ],
   "metadata": {}
  },
  {
   "cell_type": "markdown",
   "source": [
    "## Read data"
   ],
   "metadata": {}
  },
  {
   "outputs": [],
   "cell_type": "code",
   "source": [
    "if !@isdefined(data)\n",
    "    repo = \"https://github.com/ClaireYLin/regularized-field-map-estimation\"\n",
    "    dataurl = \"$repo/blob/main/data/input_object_40sl_3d_epi_snr40.mat?raw=true\"\n",
    "    data = matread(Downloads.download(dataurl))\n",
    "end;"
   ],
   "metadata": {},
   "execution_count": null
  },
  {
   "cell_type": "markdown",
   "source": [
    "Extract arrays used in simulation"
   ],
   "metadata": {}
  },
  {
   "outputs": [],
   "cell_type": "code",
   "source": [
    "if !@isdefined(ftrue)\n",
    "    zp = 1:40 # choose subset of slices\n",
    "    mask = data[\"maskR\"][:,:,zp]\n",
    "    ftrue = (data[\"in_obj\"][\"ztrue\"][:,:,zp] .* mask) / 2π / 1s # Hz\n",
    "    ftrue .*= mask # true field map (in Hz) for simulation\n",
    "    mag = data[\"in_obj\"][\"xtrue\"] .* mask # true baseline magnitude\n",
    "    if false # 2× in all 3 dimensions to make (128,128,80) for timing test (≈6sec)\n",
    "        catd = (x,d) -> cat(x, x, dims=d)\n",
    "        bigify = (x) -> catd(catd(catd(x, 1), 2), 3)\n",
    "        ftrue = bigify(ftrue)\n",
    "        mag = bigify(mag)\n",
    "        mask = bigify(mask)\n",
    "    end\n",
    "    (nx,ny,nz) = size(mag)\n",
    "    clim = (-100,100) # display range in Hz\n",
    "    jim(ftrue .* mask; clim, title=\"True fieldmap in Hz (Fig 3d)\")\n",
    "end"
   ],
   "metadata": {},
   "execution_count": null
  },
  {
   "cell_type": "markdown",
   "source": [
    "Function for computing RMSE within the mask"
   ],
   "metadata": {}
  },
  {
   "outputs": [],
   "cell_type": "code",
   "source": [
    "frmse = f -> round(sqrt(sum(abs2, (f - ftrue)[mask]) / count(mask)) * s, digits=1) / s;"
   ],
   "metadata": {},
   "execution_count": null
  },
  {
   "cell_type": "markdown",
   "source": [
    "Parameters for data generation"
   ],
   "metadata": {}
  },
  {
   "outputs": [],
   "cell_type": "code",
   "source": [
    "echotime = [0, 2, 10] * 1f-3 * 1s # echo times in sec\n",
    "true_thresh = 0.05 # threshold of the true object for determining reconstruction mask\n",
    "snr = 24 # noise level in dB\n",
    "ne = length(echotime)\n",
    "nc = 4; # number of coils in simulation"
   ],
   "metadata": {},
   "execution_count": null
  },
  {
   "cell_type": "markdown",
   "source": [
    "## Simulate sensitivity maps\n",
    "(`rcoil=100` to match matlab default).\n",
    "todo: polynomial approximation?"
   ],
   "metadata": {}
  },
  {
   "outputs": [],
   "cell_type": "code",
   "source": [
    "if !@isdefined(smap)\n",
    "    smap = ir_mri_sensemap_sim(; dims=(nx, ny, nz), ncoil=nc, rcoil=100)\n",
    "    div0 = (x::Number,y::Number) -> iszero(y) ? 0 : x/y\n",
    "    smap ./= sqrt.(sum(abs2, smap; dims=4)) # normalize by SSoS\n",
    "    jim(smap, \"|smap|\"; ncol=nz÷2)\n",
    "end"
   ],
   "metadata": {},
   "execution_count": null
  },
  {
   "cell_type": "markdown",
   "source": [
    "## Generate simulated image data\n",
    "This is the multi-coil version,\n",
    "for multiple echo times,\n",
    "with additive complex Gaussian noise.\n",
    "\n",
    "Because `b0model` uses `cis(+phase)`,\n",
    "the resulting fieldmap\n",
    "may be the negative of the needed for your scanner!"
   ],
   "metadata": {}
  },
  {
   "outputs": [],
   "cell_type": "code",
   "source": [
    "ytrue = b0model(ftrue, mag, echotime; smap)\n",
    "seed!(0) # matlab and julia will differ"
   ],
   "metadata": {},
   "execution_count": null
  },
  {
   "cell_type": "markdown",
   "source": [
    "compute the noise_std to get the desired SNR"
   ],
   "metadata": {}
  },
  {
   "outputs": [],
   "cell_type": "code",
   "source": [
    "image_power = 10 * log10(sum(abs2, mag) / (nx*ny*nz)) # in dB\n",
    "noise_power = image_power - snr\n",
    "noise_std = sqrt(10^(noise_power/10)) / 2 # because complex\n",
    "ynoise = Float32(noise_std) * randn(ComplexF32, size(ytrue))\n",
    "ydata = ytrue + ynoise; # add the noise to the data"
   ],
   "metadata": {},
   "execution_count": null
  },
  {
   "cell_type": "markdown",
   "source": [
    "Compute the SNR for each echo time to verify"
   ],
   "metadata": {}
  },
  {
   "outputs": [],
   "cell_type": "code",
   "source": [
    "tmp = [sum(abs2, ytrue[:,:,:,:,i]) / sum(abs2, ynoise[:,:,:,:,i]) for i in 1:ne]\n",
    "datasnr = 10 * log10.(tmp)"
   ],
   "metadata": {},
   "execution_count": null
  },
  {
   "cell_type": "markdown",
   "source": [
    "Show data magnitude"
   ],
   "metadata": {}
  },
  {
   "outputs": [],
   "cell_type": "code",
   "source": [
    "jim(ydata[:,:,:,:,end], \"|data|\"; ncol=nz÷2)"
   ],
   "metadata": {},
   "execution_count": null
  },
  {
   "cell_type": "markdown",
   "source": [
    "Coil combine image data and scale"
   ],
   "metadata": {}
  },
  {
   "outputs": [],
   "cell_type": "code",
   "source": [
    "if !@isdefined(yik_sos)\n",
    "    yik_sos = sum(conj(smap) .* ydata; dims=4) # coil combine\n",
    "    yik_sos = yik_sos[:,:,:,1,:] # (dims..., ne)\n",
    "    jim(yik_sos, \"|data sos|\"; ncol=nz÷2)\n",
    "    (yik_sos_scaled, scale) = b0scale(yik_sos, echotime) # todo\n",
    "    jim(yik_sos_scaled, \"|scaled data|\"; ncol=nz÷2)\n",
    "end"
   ],
   "metadata": {},
   "execution_count": null
  },
  {
   "cell_type": "markdown",
   "source": [
    "## Initialize fieldmap\n",
    "\n",
    "Compute `finit`\n",
    "using phase difference of first two echo times (no smoothing):"
   ],
   "metadata": {}
  },
  {
   "outputs": [],
   "cell_type": "code",
   "source": [
    "finit = b0init(ydata, echotime; smap)\n",
    "jim(finit .* mask; clim, title=\"Initial fieldmap in Hz (Fig 3b)\",\n",
    "    xlabel = \"RMSE = $(frmse(finit)) Hz\")"
   ],
   "metadata": {},
   "execution_count": null
  },
  {
   "cell_type": "markdown",
   "source": [
    "## Run NCG\n",
    "\n",
    "Run each algorithm twice; once to track rmse and costs, once for timing"
   ],
   "metadata": {}
  },
  {
   "outputs": [],
   "cell_type": "code",
   "source": [
    "yik_scale = ydata / scale\n",
    "fmap_run = (niter, precon, track; kwargs...) ->\n",
    "    b0map(yik_scale, echotime; smap, mask,\n",
    "       order=1, l2b=-4, gamma_type=:PR, niter, precon, track, kwargs...)\n",
    "\n",
    "function runner(niter, precon; kwargs...)\n",
    "    (fmap, _, out) = fmap_run(niter, precon, true; kwargs...) # tracking run\n",
    "    (_, times, _) = fmap_run(niter, precon, false; kwargs...) # timing run\n",
    "    return (fmap, out.fhats, out.costs, times)\n",
    "end;"
   ],
   "metadata": {},
   "execution_count": null
  },
  {
   "cell_type": "markdown",
   "source": [
    "### 2. NCG: no precon"
   ],
   "metadata": {}
  },
  {
   "outputs": [],
   "cell_type": "code",
   "source": [
    "if !@isdefined(fmap_cg_n)\n",
    "    niter_cg_n = 50\n",
    "    (fmap_cg_n, fhat_cg_n, cost_cg_n, time_cg_n) = runner(niter_cg_n, :I)\n",
    "\n",
    "    pcost = plot(time_cg_n, cost_cg_n, marker=:circle, label=\"NCG-MLS\");\n",
    "    pi_cn = jim(fmap_cg_n, \"CG:I\"; clim,\n",
    "        xlabel = \"RMSE = $(frmse(fmap_cg_n)) Hz\")\n",
    "end"
   ],
   "metadata": {},
   "execution_count": null
  },
  {
   "cell_type": "markdown",
   "source": [
    "### 3. NCG: diagonal preconditioner"
   ],
   "metadata": {}
  },
  {
   "outputs": [],
   "cell_type": "code",
   "source": [
    "if !@isdefined(fmap_cg_d)\n",
    "    niter_cg_d = 40\n",
    "    (fmap_cg_d, fhat_cg_d, cost_cg_d, time_cg_d) = runner(niter_cg_d, :diag)\n",
    "\n",
    "    plot!(pcost, time_cg_d, cost_cg_d, marker=:square, label=\"NCG-MLS-D\")\n",
    "    pi_cd = jim(fmap_cg_d, \"CG:diag\"; clim,\n",
    "        xlabel = \"RMSE = $(frmse(fmap_cg_d)) Hz\")\n",
    "end"
   ],
   "metadata": {},
   "execution_count": null
  },
  {
   "cell_type": "markdown",
   "source": [
    "### 4. NCG: Cholesky preconditioner\n",
    "(This one may use too much memory for larger images.)"
   ],
   "metadata": {}
  },
  {
   "outputs": [],
   "cell_type": "code",
   "source": [
    "if !@isdefined(fmap_cg_c)\n",
    "    niter_cg_c = 3\n",
    "    (fmap_cg_c, fhat_cg_c, cost_cg_c, time_cg_c) = runner(niter_cg_c, :chol)\n",
    "\n",
    "    plot!(pcost, time_cg_c, cost_cg_c, marker=:square, label=\"NCG-MLS-C\")\n",
    "    pi_cc = jim(fmap_cg_c, \"CG:chol\"; clim,\n",
    "        xlabel = \"RMSE = $(frmse(fmap_cg_c)) Hz\")\n",
    "end"
   ],
   "metadata": {},
   "execution_count": null
  },
  {
   "cell_type": "markdown",
   "source": [
    "### 5. NCG: Incomplete Cholesky preconditioner"
   ],
   "metadata": {}
  },
  {
   "outputs": [],
   "cell_type": "code",
   "source": [
    "if !@isdefined(fmap_cg_i)\n",
    "    niter_cg_i = 14\n",
    "    (fmap_cg_i, fhat_cg_i, cost_cg_i, time_cg_i) =\n",
    "        runner(niter_cg_i, :ichol; lldl_args = (; memory=20, droptol=0))\n",
    "\n",
    "    plot!(pcost, time_cg_i, cost_cg_i, marker=:square, label=\"NCG-MLS-IC\",\n",
    "        xlabel = \"time [s]\", ylabel=\"cost\")\n",
    "    pi_ci = jim(fmap_cg_i, \"CG:ichol\"; clim,\n",
    "        xlabel = \"RMSE = $(frmse(fmap_cg_i)) Hz\")\n",
    "end"
   ],
   "metadata": {},
   "execution_count": null
  },
  {
   "cell_type": "markdown",
   "source": [
    "Compare final RMSE values"
   ],
   "metadata": {}
  },
  {
   "outputs": [],
   "cell_type": "code",
   "source": [
    "frmse.((ftrue, finit, fmap_cg_n, fmap_cg_d, fmap_cg_c, fmap_cg_i))"
   ],
   "metadata": {},
   "execution_count": null
  },
  {
   "cell_type": "markdown",
   "source": [
    "Plot RMSE vs wall time"
   ],
   "metadata": {}
  },
  {
   "outputs": [],
   "cell_type": "code",
   "source": [
    "prmse = plot(xlabel = \"time [s]\", ylabel=\"RMSE [Hz]\")\n",
    "fun = (time, fhat, label) ->\n",
    "    plot!(prmse, time, frmse.(eachslice(fhat; dims=4)); label, marker=:circ)\n",
    "fun(time_cg_n, fhat_cg_n, \"None\")\n",
    "fun(time_cg_d, fhat_cg_d, \"Diag\")\n",
    "fun(time_cg_c, fhat_cg_c, \"Chol\")\n",
    "fun(time_cg_i, fhat_cg_i, \"IC\")"
   ],
   "metadata": {},
   "execution_count": null
  },
  {
   "cell_type": "markdown",
   "source": [
    "## Discussion\n",
    "\n",
    "That final figure is similar to Fig. 4 of the 2020 Lin&Fessler paper,\n",
    "after correcting that figure for a\n",
    "[factor of π](https://github.com/ClaireYLin/regularized-field-map-estimation).\n",
    "\n",
    "This figure was generated in github's cloud,\n",
    "where the servers are busily multi-tasking,\n",
    "so the compute times per iteration\n",
    "can vary widely between iterations and runs.\n",
    "\n",
    "Nevertheless,\n",
    "it is interesting that\n",
    "in this Julia implementation\n",
    "the diagonal preconditioner\n",
    "seems to be\n",
    "as effective as the incomplete Cholesky preconditioner."
   ],
   "metadata": {}
  },
  {
   "cell_type": "markdown",
   "source": [
    "---\n",
    "\n",
    "*This notebook was generated using [Literate.jl](https://github.com/fredrikekre/Literate.jl).*"
   ],
   "metadata": {}
  }
 ],
 "nbformat_minor": 3,
 "metadata": {
  "language_info": {
   "file_extension": ".jl",
   "mimetype": "application/julia",
   "name": "julia",
   "version": "1.8.5"
  },
  "kernelspec": {
   "name": "julia-1.8",
   "display_name": "Julia 1.8.5",
   "language": "julia"
  }
 },
 "nbformat": 4
}
